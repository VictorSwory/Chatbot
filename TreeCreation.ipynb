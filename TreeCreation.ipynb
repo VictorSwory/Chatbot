{
 "cells": [
  {
   "cell_type": "code",
   "execution_count": 41,
   "metadata": {},
   "outputs": [
    {
     "data": {
      "text/html": [
       "<div>\n",
       "<style scoped>\n",
       "    .dataframe tbody tr th:only-of-type {\n",
       "        vertical-align: middle;\n",
       "    }\n",
       "\n",
       "    .dataframe tbody tr th {\n",
       "        vertical-align: top;\n",
       "    }\n",
       "\n",
       "    .dataframe thead th {\n",
       "        text-align: right;\n",
       "    }\n",
       "</style>\n",
       "<table border=\"1\" class=\"dataframe\">\n",
       "  <thead>\n",
       "    <tr style=\"text-align: right;\">\n",
       "      <th></th>\n",
       "      <th>STATUS</th>\n",
       "      <th>Quartos</th>\n",
       "      <th>Banheiros</th>\n",
       "      <th>sqft_living</th>\n",
       "      <th>sqrf_lot</th>\n",
       "      <th>Floor</th>\n",
       "      <th>Condition</th>\n",
       "      <th>sqft_above</th>\n",
       "      <th>sqft_basement</th>\n",
       "    </tr>\n",
       "  </thead>\n",
       "  <tbody>\n",
       "    <tr>\n",
       "      <th>126</th>\n",
       "      <td>1</td>\n",
       "      <td>6</td>\n",
       "      <td>3.00</td>\n",
       "      <td>2480</td>\n",
       "      <td>9720</td>\n",
       "      <td>2.0</td>\n",
       "      <td>3</td>\n",
       "      <td>2480</td>\n",
       "      <td>0</td>\n",
       "    </tr>\n",
       "    <tr>\n",
       "      <th>127</th>\n",
       "      <td>2</td>\n",
       "      <td>5</td>\n",
       "      <td>1.75</td>\n",
       "      <td>1250</td>\n",
       "      <td>10530</td>\n",
       "      <td>1.0</td>\n",
       "      <td>4</td>\n",
       "      <td>1250</td>\n",
       "      <td>0</td>\n",
       "    </tr>\n",
       "    <tr>\n",
       "      <th>128</th>\n",
       "      <td>0</td>\n",
       "      <td>3</td>\n",
       "      <td>1.75</td>\n",
       "      <td>2760</td>\n",
       "      <td>9137</td>\n",
       "      <td>1.0</td>\n",
       "      <td>3</td>\n",
       "      <td>1380</td>\n",
       "      <td>1380</td>\n",
       "    </tr>\n",
       "    <tr>\n",
       "      <th>129</th>\n",
       "      <td>0</td>\n",
       "      <td>7</td>\n",
       "      <td>2.25</td>\n",
       "      <td>2620</td>\n",
       "      <td>6890</td>\n",
       "      <td>2.0</td>\n",
       "      <td>4</td>\n",
       "      <td>2620</td>\n",
       "      <td>0</td>\n",
       "    </tr>\n",
       "    <tr>\n",
       "      <th>130</th>\n",
       "      <td>2</td>\n",
       "      <td>3</td>\n",
       "      <td>2.00</td>\n",
       "      <td>1940</td>\n",
       "      <td>55756</td>\n",
       "      <td>1.0</td>\n",
       "      <td>5</td>\n",
       "      <td>1940</td>\n",
       "      <td>0</td>\n",
       "    </tr>\n",
       "  </tbody>\n",
       "</table>\n",
       "</div>"
      ],
      "text/plain": [
       "     STATUS  Quartos  Banheiros  sqft_living  sqrf_lot  Floor  Condition  \\\n",
       "126       1        6       3.00         2480      9720    2.0          3   \n",
       "127       2        5       1.75         1250     10530    1.0          4   \n",
       "128       0        3       1.75         2760      9137    1.0          3   \n",
       "129       0        7       2.25         2620      6890    2.0          4   \n",
       "130       2        3       2.00         1940     55756    1.0          5   \n",
       "\n",
       "     sqft_above  sqft_basement  \n",
       "126        2480              0  \n",
       "127        1250              0  \n",
       "128        1380           1380  \n",
       "129        2620              0  \n",
       "130        1940              0  "
      ]
     },
     "execution_count": 41,
     "metadata": {},
     "output_type": "execute_result"
    }
   ],
   "source": [
    "import pandas as pd\n",
    "from sklearn.tree import DecisionTreeClassifier # Import Decision Tree Classifier\n",
    "from sklearn import tree\n",
    "from sklearn.model_selection import train_test_split # Import train_test_split function\n",
    "from sklearn import metrics #Import scikit-learn metrics module for accuracy calculation\n",
    "import graphviz as gh\n",
    "\n",
    "col_names = ['STATUS','Quartos','Banheiros','sqft_living','sqrf_lot','Floor','Condition','sqft_above','sqft_basement']\n",
    "casas = pd.read_excel(\"arvoree.xlsx\", header=None, names=col_names)\n",
    "#casas = casas.drop(['STATUS','Quartos','Banheiros','Nota','sqft_living','sqrf_lot','Floor','Condition','sqft_above','sqft_basement'], axis=1)\n",
    "casas.tail()\n"
   ]
  },
  {
   "cell_type": "code",
   "execution_count": 20,
   "metadata": {},
   "outputs": [
    {
     "name": "stdout",
     "output_type": "stream",
     "text": [
      "Collecting graphvizNote: you may need to restart the kernel to use updated packages.\n",
      "  Downloading graphviz-0.15-py2.py3-none-any.whl (18 kB)\n",
      "Installing collected packages: graphviz\n",
      "Successfully installed graphviz-0.15\n",
      "\n"
     ]
    }
   ],
   "source": [
    "pip install graphviz"
   ]
  },
  {
   "cell_type": "code",
   "execution_count": 42,
   "metadata": {},
   "outputs": [
    {
     "name": "stdout",
     "output_type": "stream",
     "text": [
      "Accuracy: 0.5\n"
     ]
    }
   ],
   "source": [
    "feature_cols = ['Quartos','Banheiros','sqft_living','sqrf_lot','Floor','Condition','sqft_above','sqft_basement']\n",
    "X = casas[feature_cols] # Features\n",
    "y = casas.STATUS # Target variable\n",
    "\n",
    "X_train, X_test, y_train, y_test = train_test_split(X, y, test_size=0.01, random_state=1)\n",
    "#y_test = pd.read_csv(\"ConferenciaIISK.csv\")\n",
    "clf = DecisionTreeClassifier()\n",
    "clf = clf.fit(X_train,y_train)\n",
    "y_pred = clf.predict(X_test)\n",
    "print(\"Accuracy:\",metrics.accuracy_score(y_test, y_pred))\n",
    "\n",
    "\n",
    "with open(\"ArvoreII.dot\", 'w') as f:\n",
    "            tree.export_graphviz(clf,\n",
    "                        out_file=f,\n",
    "                        max_depth=10,\n",
    "                        impurity=True,\n",
    "                        feature_names = feature_cols,\n",
    "                        class_names = ['Abaixo','Media','Acima'],\n",
    "                        rounded= True,\n",
    "                        filled = True)\n",
    "\n"
   ]
  },
  {
   "cell_type": "code",
   "execution_count": null,
   "metadata": {},
   "outputs": [],
   "source": []
  }
 ],
 "metadata": {
  "kernelspec": {
   "display_name": "Python 3",
   "language": "python",
   "name": "python3"
  },
  "language_info": {
   "codemirror_mode": {
    "name": "ipython",
    "version": 3
   },
   "file_extension": ".py",
   "mimetype": "text/x-python",
   "name": "python",
   "nbconvert_exporter": "python",
   "pygments_lexer": "ipython3",
   "version": "3.8.3"
  }
 },
 "nbformat": 4,
 "nbformat_minor": 4
}
